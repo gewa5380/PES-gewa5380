{
  "nbformat": 4,
  "nbformat_minor": 0,
  "metadata": {
    "colab": {
      "provenance": [],
      "include_colab_link": true
    },
    "kernelspec": {
      "name": "python3",
      "display_name": "Python 3"
    },
    "language_info": {
      "name": "python"
    }
  },
  "cells": [
    {
      "cell_type": "markdown",
      "metadata": {
        "id": "view-in-github",
        "colab_type": "text"
      },
      "source": [
        "<a href=\"https://colab.research.google.com/github/gewa5380/PES-gewa5380/blob/main/Labs/Lab06_GPS.ipynb\" target=\"_parent\"><img src=\"https://colab.research.google.com/assets/colab-badge.svg\" alt=\"Open In Colab\"/></a>"
      ]
    },
    {
      "cell_type": "markdown",
      "source": [
        "#Lab 6: GPS and solving nonlinear equations\n",
        "\n",
        "We'll look at [global navigation satellite system (GNSS)](https://en.wikipedia.org/wiki/Satellite_navigation) (which includes GPS...)\n",
        "\n",
        "### Learning Objectives\n",
        "1. Hands on experience using Newton's method to solve a nonlinear system of equations\n",
        "2. Learn a little bit about how GPS works\n",
        "3. Having fun\n",
        "\n",
        "### Deliverables\n",
        "- Turn in a PDF to Canvas that either\n",
        "  - shows a map location with a good estimate (hint: all locations are within Boulder, Broomfield and Weld counties), or\n",
        "  - if you didn't get it working, just turn in a PDF showing your code\n",
        "\n",
        "Copyright 2025, Department of Applied Mathematics, University of Colorado Boulder. Released under the BSD 3-Clause License\n",
        "\n",
        "Written by Stephen Becker\n",
        "\n",
        "This builds heavily off of [gnss_lib_py](https://gnss-lib-py.readthedocs.io/en/latest/index.html), copyright 2021 Stanford-NavLab, released under the MIT License.  Thank you for making such a useful too!"
      ],
      "metadata": {
        "id": "HiXuWggssBa6"
      }
    },
    {
      "cell_type": "code",
      "execution_count": 2,
      "metadata": {
        "colab": {
          "base_uri": "https://localhost:8080/"
        },
        "id": "Dr-51ht8sAOE",
        "outputId": "e8e8facc-34c7-4263-a867-c707492c7f32"
      },
      "outputs": [
        {
          "output_type": "stream",
          "name": "stdout",
          "text": [
            "3.12.11 (main, Jun  4 2025, 08:56:18) [GCC 11.4.0]\n"
          ]
        }
      ],
      "source": [
        "import geopy, os, glob\n",
        "from geopy.geocoders import Nominatim\n",
        "import numpy as np\n",
        "import sys\n",
        "print(sys.version)\n",
        "%pip install gnss-lib-py --quiet --progress-bar off\n",
        "import gnss_lib_py as glp  # requires Python: >=3.9, <3.13\n",
        "geolocator = Nominatim(user_agent=\"APPM 4600 class\")\n",
        "from gnss_lib_py.navdata.operations import loop_time\n",
        "from gnss_lib_py.utils.coordinates import ecef_to_geodetic\n",
        "from gnss_lib_py.navdata.navdata import NavData\n",
        "from gnss_lib_py.utils import constants as consts"
      ]
    },
    {
      "cell_type": "markdown",
      "source": [
        "## Warmup: implement Newton's method\n",
        "Below is a call signature for `my_Newton` which you will use later. So implement it, and then check on the provided test function that it's working.\n",
        "\n",
        "Note: in class we've always had # of equations = # of parameters so far. If we have more equations than parameters, then instead of solving $J^{-1} F(\\vec{x})$ (via, e.g., `np.linalg.solve`), you can get a least norm solution via $J^\\dagger F(\\vec{x})$ where $J^\\dagger = (J^\\top J)^{-1} J^\\top$ is the Moore-Penrose pseudoinverse. In numpy, you can get this solution `np.linalg.lstsq`.  This is equivalent to the \"Gauss Newton\" method we'll talk about later.\n",
        "\n",
        "I bring this up because when we use Newton's method in GNSS, if we have exactly 4 satellites, then we have the same number of equations as unknowns. But we often have data from more than 4 satellites, and it's a shame to waste that information, so we'll try to use it.  For nice GNSS implementations, you'd actually *weight* each equation by your estimate of the error, since you might have better data from some satellites."
      ],
      "metadata": {
        "id": "fDmnX39EIkVR"
      }
    },
    {
      "cell_type": "code",
      "source": [
        "def my_Newton(F, J, x, tol = 1e-7, max_count = 20, errFcn = None ):\n",
        "  x = np.asarray(x, dtype = 'float64')\n",
        "  for i in range(max_count):\n",
        "    x = x - np.linalg.inv(J(x))@F(x)\n",
        "    if errFcn is not None:\n",
        "      err = errFcn(x)\n",
        "      print(f'iteration {i}, error is {err}')\n",
        "  return x\n",
        "\n",
        "# Check that it works on a simple problem with a known answer\n",
        "def F( xy ):\n",
        "    \"\"\" xy = [x,y], and we solve  x + e^y = 2, 2x + 4e^y = 8\n",
        "    and you can work out that y = ln(2) and x=0 are the solutions \"\"\"\n",
        "    return np.array([xy[0] + np.exp(xy[1]) - 2, 2*xy[0] + 4*np.exp(xy[1]) - 8])\n",
        "def J( xy ):\n",
        "    \"\"\" Jacobian of the F defined above \"\"\"\n",
        "    return np.array([[1, np.exp(xy[1])], [2, 4*np.exp(xy[1])]])\n",
        "\n",
        "trueSoln = np.array( [0,np.log(2)] )\n",
        "errFcn   = lambda x : np.linalg.norm( x - trueSoln )\n",
        "x = my_Newton( F, J, np.array([0,0]), errFcn = errFcn )\n"
      ],
      "metadata": {
        "id": "n9EgaE5hEKXn",
        "outputId": "4852cbcd-bb1a-4f65-a876-9553ec14d74c",
        "colab": {
          "base_uri": "https://localhost:8080/"
        }
      },
      "execution_count": 3,
      "outputs": [
        {
          "output_type": "stream",
          "name": "stdout",
          "text": [
            "iteration 0, error is 0.3068528194400547\n",
            "iteration 1, error is 0.04261170178293938\n",
            "iteration 2, error is 0.0008951193589700202\n",
            "iteration 3, error is 4.004998260809245e-07\n",
            "iteration 4, error is 8.01581023779363e-14\n",
            "iteration 5, error is 0.0\n",
            "iteration 6, error is 0.0\n",
            "iteration 7, error is 0.0\n",
            "iteration 8, error is 0.0\n",
            "iteration 9, error is 0.0\n",
            "iteration 10, error is 0.0\n",
            "iteration 11, error is 0.0\n",
            "iteration 12, error is 0.0\n",
            "iteration 13, error is 0.0\n",
            "iteration 14, error is 0.0\n",
            "iteration 15, error is 0.0\n",
            "iteration 16, error is 0.0\n",
            "iteration 17, error is 0.0\n",
            "iteration 18, error is 0.0\n",
            "iteration 19, error is 0.0\n"
          ]
        }
      ]
    },
    {
      "cell_type": "markdown",
      "source": [
        "## Step 2: get data\n",
        "\n",
        "Your instructor used the [Google GNSSLogger Android App](https://play.google.com/store/apps/details?id=com.google.android.apps.location.gps.gnsslogger&pcampaignid=web_share) to record GNSS/GPS data on his phone, following the [gnss_lib_py suggestion](https://gnss-lib-py.readthedocs.io/en/latest/tutorials/parsers/tutorials_android_notebook.html).  We have some raw data files with the satellite measurements from him driving throughout the Boulder/Denver metro area in September 2025.\n",
        "\n",
        "Your task is to pinpoint the exact locations!"
      ],
      "metadata": {
        "id": "eU5rSKsQIv2o"
      }
    },
    {
      "cell_type": "code",
      "source": [
        "# Download all data\n",
        "for alph in ['A','B','C','D']:\n",
        "    os.system(f'wget -q https://raw.githubusercontent.com/cu-applied-math/appm-4600-numerics/refs/heads/main/Labs/Data/gnss_log_{alph}.txt')\n",
        "for i in range(ord('E'),ord('A')+26, 2):\n",
        "    alph = chr(i) + chr(i+1)\n",
        "    os.system(f'wget -q https://raw.githubusercontent.com/cu-applied-math/appm-4600-numerics/refs/heads/main/Labs/Data/gnss_log_{alph}.txt')"
      ],
      "metadata": {
        "id": "vroYL-ytsZjS"
      },
      "execution_count": 4,
      "outputs": []
    },
    {
      "cell_type": "code",
      "source": [
        "# And you'll work with a specific file (it might not be the same as your friends')\n",
        "letter = 'C'  # change this to the first letter of your last name.\n",
        "# Edit -- not all log files work.\n",
        "# Good: C, EF, GH, IJ.\n",
        "# Bad: A, B, D, KL, MN, OP, QR, ST, UV, WX, YZ\n",
        "logfile = glob.glob(f'gnss_log_{letter.upper()}*.txt')[0]\n",
        "logfile"
      ],
      "metadata": {
        "colab": {
          "base_uri": "https://localhost:8080/",
          "height": 35
        },
        "id": "NA4OK39gtMyv",
        "outputId": "c92349b7-b2a4-4308-d7d1-0426f198476d"
      },
      "execution_count": null,
      "outputs": [
        {
          "output_type": "execute_result",
          "data": {
            "text/plain": [
              "'gnss_log_C.txt'"
            ],
            "application/vnd.google.colaboratory.intrinsic+json": {
              "type": "string"
            }
          },
          "metadata": {},
          "execution_count": 75
        }
      ]
    },
    {
      "cell_type": "markdown",
      "source": [
        "Load the raw data into a nice format for `gnss_lib_py`, then download the satellite (\"sv\") locations and add that to our data object. We'll then restrict to just the USA \"gps\" constellation (but you can also use Europe's \"galileo\" constellation or Russian or Chinese"
      ],
      "metadata": {
        "id": "aR6yw-kj7hQ7"
      }
    },
    {
      "cell_type": "code",
      "source": [
        "raw_data = glp.AndroidRawGnss(input_path=logfile)\n",
        "raw_data = raw_data.where(\"gnss_id\",(\"gps\"))\n",
        "# raw_data = raw_data.where(\"gnss_id\",(\"galileo\"))\n",
        "full_states = glp.add_sv_states(raw_data, source=\"precise\", verbose=False, download_directory='./')\n",
        "full_states[\"corr_pr_m\"] = full_states[\"raw_pr_m\"] \\\n",
        "                         + full_states['b_sv_m']\n",
        "# full_states = full_states.where(\"gnss_id\",(\"gps\")) # already did this to raw data"
      ],
      "metadata": {
        "id": "SrvQH78Q7W9s"
      },
      "execution_count": null,
      "outputs": []
    },
    {
      "cell_type": "markdown",
      "source": [
        "## Step 3: solve for the position\n",
        "\n",
        "Your job is to implement the following function\n",
        "```python\n",
        "def my_GNSS_Newton(rx_est_m, pos_sv_m, corr_pr_m,  tol = 1e-7, max_count = 20 ):\n",
        "    \"\"\"Newton solver for GNSS measurements.\n",
        "\n",
        "    Acronyms: \"rx\" is for receiver (where you were when you took the measurements)\n",
        "      \"sv\" is for satellite\n",
        "      \"pr\" or \"Pseudorange\" is speed-of-light x time (so it should be a distance)\n",
        "        since elapsed time is measured by the satellites\n",
        "\n",
        "    Parameters\n",
        "    ----------\n",
        "    rx_est_m : np.ndarray\n",
        "        Estimated receiver position in ECEF frame in meters and the\n",
        "        estimated receiver clock bias also in meters in an\n",
        "        array with shape (4 x 1) and the following order:\n",
        "        x_rx_m, y_rx_m, z_rx_m, b_rx_m.\n",
        "    pos_sv_m : np.ndarray\n",
        "        Satellite ECEF positions as an array of shape [# svs x 3] where\n",
        "        the columns contain in order x_sv_m, y_sv_m, and z_sv_m.\n",
        "    corr_pr_m : np.ndarray\n",
        "        Corrected pseudoranges for all satellites with shape of\n",
        "        [# svs x 1]\n",
        "\n",
        "    Returns\n",
        "    -------\n",
        "    rx_est_m : np.ndarray\n",
        "        Estimated receiver position in ECEF frame in meters and the\n",
        "        estimated receiver clock bias also in meters in an\n",
        "        array with shape (4 x 1) and the following order:\n",
        "        x_rx_m, y_rx_m, z_rx_m, b_rx_m.\n",
        "    \"\"\"\n",
        "```\n",
        "which will be called from within the `my_solve` function (**don't modify** this function, as it does lots of bookkeeping and GNSS stuff)\n"
      ],
      "metadata": {
        "id": "ZxxwEJGjH4tH"
      }
    },
    {
      "cell_type": "code",
      "source": [
        "def my_solve(measurements,  tol = 1e-7, max_count = 20,\n",
        "              sv_rx_time=False, delta_t_decimals=-2, solver=None, x0 = None):\n",
        "    \"\"\"Runs my_GNSS_Newton across each timestep and adds a new\n",
        "    row for the receiver's position and clock bias.\n",
        "\n",
        "    Modified/simplified by Stephen Becker freom the original \"solve_wls\" at\n",
        "    https://github.com/Stanford-NavLab/gnss_lib_py/blob/main/gnss_lib_py/algorithms/snapshot.py\n",
        "\n",
        "    Parameters\n",
        "    ----------\n",
        "    measurements : gnss_lib_py.navdata.navdata.NavData\n",
        "        Instance of the NavData class which must include at least\n",
        "        ``gps_millis``, ``x_sv_m``, ``y_sv_m``, and ``z_sv_m``.\n",
        "\n",
        "    Returns\n",
        "    -------\n",
        "    state_estimate : gnss_lib_py.navdata.navdata.NavData\n",
        "        Estimated receiver position in ECEF frame in meters and the\n",
        "        estimated receiver clock bias also in meters as an instance of\n",
        "        the NavData class with shape (4 x # unique timesteps) and\n",
        "        the following rows: gps_millis, x_rx_wls_m, y_rx_wls_m,\n",
        "        z_rx_wls_m, b_rx_wls_m, lat_rx_wls_deg, lon_rx_wls_deg,\n",
        "        alt_rx_wls_m.\n",
        "\n",
        "    \"\"\"\n",
        "    # check that all necessary rows exist\n",
        "    measurements.in_rows([\"x_sv_m\",\"y_sv_m\",\"z_sv_m\",\"gps_millis\"])\n",
        "\n",
        "    states = []\n",
        "    runtime_error_idxs = {}\n",
        "\n",
        "    position = np.zeros((4,1))\n",
        "    if x0 is not None:\n",
        "        position[:3] = x0\n",
        "    for timestamp, _, measurement_subset in loop_time(measurements,\"gps_millis\",\n",
        "                                                      delta_t_decimals=delta_t_decimals):\n",
        "        pos_sv_m = measurement_subset[[\"x_sv_m\",\"y_sv_m\",\"z_sv_m\"]].T\n",
        "        pos_sv_m = np.atleast_2d(pos_sv_m)\n",
        "        corr_pr_m = measurement_subset[\"corr_pr_m\"].reshape(-1,1)\n",
        "        # remove NaN indexes\n",
        "        not_nan_indexes = ~np.isnan(pos_sv_m).any(axis=1) & ~np.isnan(corr_pr_m).any(axis=1)\n",
        "        pos_sv_m = pos_sv_m[not_nan_indexes]\n",
        "        corr_pr_m = corr_pr_m[not_nan_indexes]\n",
        "\n",
        "        # Call the root-finding \"solver\" that you'll implement yourself\n",
        "        position = solver(position, pos_sv_m, corr_pr_m, tol, max_count)\n",
        "        states.append([timestamp] + np.squeeze(position).tolist())\n",
        "        # For APPM 4600, just get one location\n",
        "        break\n",
        "\n",
        "    states = np.array(states)\n",
        "    state_estimate = NavData()\n",
        "    state_estimate[\"gps_millis\"] = states[:,0]\n",
        "    state_estimate[\"x_rx_wls_m\"] = states[:,1]\n",
        "    state_estimate[\"y_rx_wls_m\"] = states[:,2]\n",
        "    state_estimate[\"z_rx_wls_m\"] = states[:,3]\n",
        "    state_estimate[\"b_rx_wls_m\"] = states[:,4]\n",
        "    lat,lon,alt = ecef_to_geodetic(state_estimate[[\"x_rx_wls_m\",\"y_rx_wls_m\",\n",
        "                                   \"z_rx_wls_m\"]].reshape(3,-1))\n",
        "    state_estimate[\"lat_rx_wls_deg\"] = lat\n",
        "    state_estimate[\"lon_rx_wls_deg\"] = lon\n",
        "    state_estimate[\"alt_rx_wls_m\"] = alt\n",
        "    return state_estimate"
      ],
      "metadata": {
        "id": "83Ic84CwJ-IV"
      },
      "execution_count": 6,
      "outputs": []
    },
    {
      "cell_type": "markdown",
      "source": [
        "### Do the \"trilateration\"\n",
        "The inputs are:\n",
        "- `rx_est_m`, initial guess for the space and time of the receiver (e.g., my smartphone). This is what we want to update!  It's of size $4\\times 1$. In the math notation below, this is the vector $(\\vec{x}, ct_b)$ where $t_b$ is the time bias and $c$ is the speed of light. So the 4th component is really a pseudorange, as described below. Note:\n",
        "\"**rx**\" stands for **receiver**\n",
        "- `pos_sv_m`, the position of the satellites. There should be at least 4 satellites, but often more, like 7.  This will have 3 columns (for the 3D spatial locations of each satellite).  \"**sv**\" stands for **satellites** (really, \"space vehicle\")\n",
        "- `corr_pr_m`, the \"**pseudorange**\" for each satellite. That is, given our estimate $\\Delta t$ of how long it take the message from the satellite to reach us, we convert this to a distance/range using \"distance = rate x time\" i.e., $c \\Delta t$ where $c$ is the speed of light.\n",
        "\n",
        "Let's recap the math:\n",
        "\n",
        "(We're doing \"trilateration\")\n",
        "\n",
        "Say our receiver is at 3D location $\\vec{x}$ and each satellite $i$ is at position $\\vec{s}_i$.  We know when a satellite sent its signal, and when we received it, so we know the travel time $\\Delta t$, and by multiplying this by the speed of light $c$, we get the pseudorange $r = c \\Delta t$.  So for at least 3 satellites, we want to solve the equations\n",
        "$$\\begin{align}\n",
        "\\|\\vec{x} - \\vec{s}_1 \\|_2 &= r_1 \\\\\n",
        "\\|\\vec{x} - \\vec{s}_2 \\|_2 &= r_2 \\\\\n",
        "\\|\\vec{x} - \\vec{s}_3 \\|_2 &= r_3\n",
        "\\end{align}\n",
        "$$\n",
        "for the unknown $\\vec{x}\\in\\mathbb{R}^3$.\n",
        "\n",
        "However, we don't know the travel time exactly enough, because our receiver's clock isn't accurate enough. So we may have an unknown offset, $t_b$, referred to the bias. Or converting this to a pseudorange, we can refer to it as $r_b = c t_b$. This is our 4th unknown.  Thus we now solve for 4 unknowns, using at least 4 satellites:\n",
        "$$\\begin{align}\n",
        "\\|\\vec{x} - \\vec{s}_1 \\|_2 &= r_1 + r_b \\\\\n",
        "\\|\\vec{x} - \\vec{s}_2 \\|_2 &= r_2 + r_b\\\\\n",
        "\\|\\vec{x} - \\vec{s}_3 \\|_2 &= r_3 + r_b\\\\\n",
        "\\|\\vec{x} - \\vec{s}_4 \\|_2 &= r_4 + r_b\n",
        "\\end{align}\n",
        "$$\n",
        "for the unknown $(\\vec{x},r_b)\\in\\mathbb{R}^4$. We've just defind our \"$F$\" function that we've been using in class for root finding.\n",
        "\n",
        "We can also square both sides of the equation if we want, since that makes finding derivatives easier (since $\\|\\vec{x}\\|_2^2$ is differentiable everywhere whereas $\\|\\vec{x}\\|_2$ isn't differentiable at $\\vec{0}$). This makes it a little nicer in some ways, though now we've introduced an ambiguity in the pseudorange a bit but that's not a big deal. So our $F$ is:\n",
        "$$\\begin{align}\n",
        "\\|\\vec{x} - \\vec{s}_1 \\|_2^2 - (r_b + r_1)^2 &= 0 \\\\\n",
        "\\|\\vec{x} - \\vec{s}_2 \\|_2^2 - (r_b + r_2)^2 &= 0\\\\\n",
        "\\|\\vec{x} - \\vec{s}_3 \\|_2^2 - (r_b + r_3)^2 &= 0\\\\\n",
        "\\|\\vec{x} - \\vec{s}_4 \\|_2^2 - (r_b + r_4)^2 &= 0\n",
        "\\end{align}\n",
        "$$\n",
        "\n",
        "So now...\n",
        "### Edit the code below!\n",
        "\n",
        "We've made some bare bones starter code\n",
        "\n",
        "If you're still stuck, scroll down lower in the notebook to find a version where we've implememnted $F$ for you, leaving just the Jacobian $J$.  It's simple enough that I recommend finding the derivatives by hand, though you could do it in JAX (but then you have to get JAX to work...)\n",
        "\n",
        "\n",
        "\n"
      ],
      "metadata": {
        "id": "jQW6wMoDJf_l"
      }
    },
    {
      "cell_type": "code",
      "source": [
        "def my_GNSS_Newton(rx_est_m, pos_sv_m, corr_pr_m,  tol = 1e-7, max_count = 20 ):\n",
        "    \"\"\" See above for call signature  \"\"\"\n",
        "    rx_est_m = rx_est_m.copy() # shape (4,1), 3d of space and 1d of time (or time offset or \"bias\")\n",
        "\n",
        "    # Store the SV position at the original receiver time.\n",
        "    # This position will be modified by the time taken by the signal to\n",
        "    # travel to the receiver.\n",
        "    rx_time_pos_sv_m = pos_sv_m.copy() # number-of-satellites x 3 (their positions)\n",
        "    num_svs = pos_sv_m.shape[0]\n",
        "    if num_svs < 4: # Number of satellites.  SV = Satellite, RX = Receiver location\n",
        "        raise RuntimeError(\"Need at least four satellites for WLS.\")\n",
        "\n",
        "    # If we want to make it invertible, we could restrict to the 1st 4 satellites...\n",
        "    # num_svs = 4 #\n",
        "\n",
        "    if max_count == 0:\n",
        "        return rx_est_m  # return initial guess\n",
        "\n",
        "    def F( x_and_ct ):\n",
        "        \"\"\" x_and_ct is a vector if size 4, 1st 3 components are position, last one is c'time-bias', i.e., a pseudorange \"\"\"\n",
        "        raise NotImplementedError(\"Implement me!\")\n",
        "\n",
        "    # and define Jacobian\n",
        "    def J( x_and_ct ):\n",
        "        raise NotImplementedError(\"Implement me!\")\n",
        "\n",
        "    # Let's try our Newton method:\n",
        "    rx_est_m = my_Newton( F, J, rx_est_m, max_count=max_count, tol=tol )\n",
        "    return rx_est_m"
      ],
      "metadata": {
        "id": "r8TbOTQ18jGf"
      },
      "execution_count": null,
      "outputs": []
    },
    {
      "cell_type": "code",
      "source": [
        "location = geolocator.geocode(\"White House\") # in latitude, longitude, altitude\n",
        "x0 = glp.geodetic_to_ecef( \\\n",
        "      np.array( [location.latitude, location.longitude, location.altitude] ).reshape(3,1) )\n",
        "\n",
        "max_count = 0 # return intial guess for now. Once you've implemented it, set it to something like 10\n",
        "my_location_estimate = my_solve( full_states, solver=my_GNSS_Newton, x0 = x0, max_count=max_count )"
      ],
      "metadata": {
        "id": "d4LyoOt1BDhl"
      },
      "execution_count": null,
      "outputs": []
    },
    {
      "cell_type": "markdown",
      "source": [
        "and print out an estimate of the address (using [geopy](https://geopy.readthedocs.io/en/stable/) with the Nominatum Geocoder) and a map (using the [gnss_lib_py](https://gnss-lib-py.readthedocs.io/) tools).\n",
        "\n",
        "If you get this working, I suggest running for `max_count=0`, then `max_count=1`, then `max_count=2`, etc., and plotting the map location every time. You can see how the location estimate gets refined. With `max_count=0`, it should just return the initial guess `x0` which was the White House in Washington D.C.  If you do `max_count=1`, what US State are you in?"
      ],
      "metadata": {
        "id": "gMLRoRNeCUO3"
      }
    },
    {
      "cell_type": "code",
      "source": [
        "lat, lon = my_location_estimate[-3:-1,:]\n",
        "latlon_string = f\"{lat}, {lon}\"\n",
        "location = geolocator.reverse(latlon_string) # reverse encoding\n",
        "print(location.address)\n",
        "\n",
        "raw_fig = glp.plot_map(my_location_estimate)\n",
        "raw_fig.show()"
      ],
      "metadata": {
        "colab": {
          "base_uri": "https://localhost:8080/",
          "height": 211
        },
        "id": "Q80KW9kFBauH",
        "outputId": "a3f1f699-4909-4cb7-8548-bb5e6ffb825a"
      },
      "execution_count": 5,
      "outputs": [
        {
          "output_type": "error",
          "ename": "NameError",
          "evalue": "name 'my_location_estimate' is not defined",
          "traceback": [
            "\u001b[0;31m---------------------------------------------------------------------------\u001b[0m",
            "\u001b[0;31mNameError\u001b[0m                                 Traceback (most recent call last)",
            "\u001b[0;32m/tmp/ipython-input-995231104.py\u001b[0m in \u001b[0;36m<cell line: 0>\u001b[0;34m()\u001b[0m\n\u001b[0;32m----> 1\u001b[0;31m \u001b[0mlat\u001b[0m\u001b[0;34m,\u001b[0m \u001b[0mlon\u001b[0m \u001b[0;34m=\u001b[0m \u001b[0mmy_location_estimate\u001b[0m\u001b[0;34m[\u001b[0m\u001b[0;34m-\u001b[0m\u001b[0;36m3\u001b[0m\u001b[0;34m:\u001b[0m\u001b[0;34m-\u001b[0m\u001b[0;36m1\u001b[0m\u001b[0;34m,\u001b[0m\u001b[0;34m:\u001b[0m\u001b[0;34m]\u001b[0m\u001b[0;34m\u001b[0m\u001b[0;34m\u001b[0m\u001b[0m\n\u001b[0m\u001b[1;32m      2\u001b[0m \u001b[0mlatlon_string\u001b[0m \u001b[0;34m=\u001b[0m \u001b[0;34mf\"{lat}, {lon}\"\u001b[0m\u001b[0;34m\u001b[0m\u001b[0;34m\u001b[0m\u001b[0m\n\u001b[1;32m      3\u001b[0m \u001b[0mlocation\u001b[0m \u001b[0;34m=\u001b[0m \u001b[0mgeolocator\u001b[0m\u001b[0;34m.\u001b[0m\u001b[0mreverse\u001b[0m\u001b[0;34m(\u001b[0m\u001b[0mlatlon_string\u001b[0m\u001b[0;34m)\u001b[0m \u001b[0;31m# reverse encoding\u001b[0m\u001b[0;34m\u001b[0m\u001b[0;34m\u001b[0m\u001b[0m\n\u001b[1;32m      4\u001b[0m \u001b[0mprint\u001b[0m\u001b[0;34m(\u001b[0m\u001b[0mlocation\u001b[0m\u001b[0;34m.\u001b[0m\u001b[0maddress\u001b[0m\u001b[0;34m)\u001b[0m\u001b[0;34m\u001b[0m\u001b[0;34m\u001b[0m\u001b[0m\n\u001b[1;32m      5\u001b[0m \u001b[0;34m\u001b[0m\u001b[0m\n",
            "\u001b[0;31mNameError\u001b[0m: name 'my_location_estimate' is not defined"
          ]
        }
      ]
    },
    {
      "cell_type": "code",
      "source": [
        "my_location_estimate"
      ],
      "metadata": {
        "colab": {
          "base_uri": "https://localhost:8080/"
        },
        "id": "i4ikGdUBBiLi",
        "outputId": "09d3900c-c498-4fa5-e504-643da574152a"
      },
      "execution_count": null,
      "outputs": [
        {
          "output_type": "execute_result",
          "data": {
            "text/plain": [
              "     gps_millis  x_rx_wls_m  y_rx_wls_m    z_rx_wls_m  b_rx_wls_m  \\\n",
              "0  1.442274e+12         0.0  -61.161416 -6.292826e+06         0.0   \n",
              "\n",
              "   lat_rx_wls_deg  lon_rx_wls_deg  alt_rx_wls_m  \n",
              "0      -89.999447           -90.0 -63926.194606  "
            ]
          },
          "metadata": {},
          "execution_count": 146
        }
      ]
    },
    {
      "cell_type": "markdown",
      "source": [
        "### If you're stuck...\n",
        "Below is more helper code, that implements $F$ but not $J$, so all you have to do is implement the Jacobian $J$"
      ],
      "metadata": {
        "id": "uILJ8Gpohyvp"
      }
    },
    {
      "cell_type": "code",
      "source": [
        "def my_GNSS_Newton(rx_est_m, pos_sv_m, corr_pr_m,  tol = 1e-7, max_count = 20 ):\n",
        "    \"\"\" See above for call signature  \"\"\"\n",
        "    rx_est_m = rx_est_m.copy() # shape (4,1), 3d of space and 1d of time (or time offset or \"bias\")\n",
        "\n",
        "    # Store the SV position at the original receiver time.\n",
        "    # This position will be modified by the time taken by the signal to\n",
        "    # travel to the receiver.\n",
        "    rx_time_pos_sv_m = pos_sv_m.copy() # number-of-satellites x 3 (their positions)\n",
        "    num_svs = pos_sv_m.shape[0]\n",
        "    if num_svs < 4: # Number of satellites.  SV = Satellite, RX = Receiver location\n",
        "        raise RuntimeError(\"Need at least four satellites for WLS.\")\n",
        "\n",
        "    # If we want to make it invertible, we could restrict to the 1st 4 satellites...\n",
        "    # num_svs = 4 #\n",
        "\n",
        "    if max_count == 0:\n",
        "        return rx_est_m  # return initial guess\n",
        "\n",
        "    def F( x_and_ct ):\n",
        "        \"\"\" x_and_ct is a vector if size 4, 1st 3 components are position, last one is c'time-bias', i.e., a pseudorange \"\"\"\n",
        "        x  = x_and_ct[:3]\n",
        "        ct = x_and_ct[-1]  # speed-of-light x time, aka pseudorange\n",
        "        out = np.empty( (num_svs,1) ) # number of satellites\n",
        "        # Note: shape of (num_svs,) can lead to errors. Make it (num_svs,1)\n",
        "        for sat in range(num_svs):\n",
        "            out[sat] = np.linalg.norm( x.ravel() - pos_sv_m[sat].ravel() )**2/2 - (ct - corr_pr_m[sat])**2/2\n",
        "        return out\n",
        "\n",
        "    # and define Jacobian\n",
        "    def J( x_and_ct ):\n",
        "        raise NotImplementedError(\"Implement me!\")\n",
        "\n",
        "    # Let's try our Newton method:\n",
        "    rx_est_m = my_Newton( F, J, rx_est_m, max_count=max_count, tol=tol )\n",
        "    return rx_est_m"
      ],
      "metadata": {
        "id": "9BYrg8yzh4yI"
      },
      "execution_count": null,
      "outputs": []
    },
    {
      "cell_type": "markdown",
      "source": [
        "### Or if you prefer, solve an academic example\n",
        "We can create the data ourselves so that we know the true answer. This let's you get some confidence in your method, and it also removes many complicating factors (uncertainty in measurements, coordinate systems, the fact that the satellites are moving, etc.)\n",
        "\n",
        "Below I've set up a basic system (the numbers are not physical)\n",
        "\n",
        "We'll start by assuming we know the exact times, then move on to assuming we don't"
      ],
      "metadata": {
        "id": "Mi5q6b59AWmi"
      }
    },
    {
      "cell_type": "code",
      "source": [
        "n = 3 # dimension of space\n",
        "m = 3 # number of satellites, should be at least 3 for now\n",
        "\n",
        "xTrue = np.array( [1,2,3] ) # true location of receiver\n",
        "\n",
        "rng = np.random.default_rng(123)\n",
        "S   = rng.standard_normal( (m,n) ) # locations of satellites, arbitrary for now\n",
        "c   = 7.8 # speed of light\n",
        "r   = np.linalg.norm( S - xTrue, axis=1 ) # true ranges\n",
        "t   = r / c # travel times\n",
        "pr  = c*t # measured pseudoranges\n",
        "print('The measured data are the pseudorange \"pr\", one per satellite')\n",
        "print('  and we also know the satellite locations, S')\n",
        "print('  Goal: find your location \"x\"')\n",
        "print(pr)"
      ],
      "metadata": {
        "id": "tUPjkr_1AmoK",
        "outputId": "55afb273-bca2-4c27-ba3f-a81af8bbb07b",
        "colab": {
          "base_uri": "https://localhost:8080/"
        }
      },
      "execution_count": null,
      "outputs": [
        {
          "output_type": "stream",
          "name": "stdout",
          "text": [
            "The measured data are the pseudorange \"pr\", one per satellite\n",
            "  and we also know the satellite locations, S\n",
            "  Goal: find your location \"x\"\n",
            "[3.53471601 2.77236444 3.97538954]\n"
          ]
        }
      ]
    },
    {
      "cell_type": "markdown",
      "source": [
        "Now suppose we don't know the exact travel time due to an inexact clock"
      ],
      "metadata": {
        "id": "nu1ZPUq7Jr5K"
      }
    },
    {
      "cell_type": "code",
      "source": [
        "n = 3 # dimension of space\n",
        "m = 4 # number of satellites, should be at least 4 for now\n",
        "\n",
        "xTrue = np.array( [1,2,3] ) # true location of receiver\n",
        "\n",
        "rng = np.random.default_rng(123)\n",
        "S   = rng.standard_normal( (m,n) ) # locations of satellites, arbitrary for now\n",
        "c   = 7.8 # speed of light\n",
        "r   = np.linalg.norm( S - xTrue, axis=1 ) # true ranges\n",
        "t   = r / c # exact travel times\n",
        "b   = 0.1   # bias in the receiver's clock\n",
        "t_observed = t + b\n",
        "pr  = c*t_observed # measured pseudoranges\n",
        "print('The measured data are the pseudorange \"pr\", one per satellite')\n",
        "print('  and we also know the satellite locations, S')\n",
        "print('  Goal: find your location \"x\" and clock bias b')\n",
        "print(pr)"
      ],
      "metadata": {
        "id": "AIZoOzYrJwan",
        "outputId": "99f5fe06-31a2-407d-f08d-cdf3cd5b7378",
        "colab": {
          "base_uri": "https://localhost:8080/"
        }
      },
      "execution_count": null,
      "outputs": [
        {
          "output_type": "stream",
          "name": "stdout",
          "text": [
            "The measured data are the pseudorange \"pr\", one per satellite\n",
            "  and we also know the satellite locations, S\n",
            "  Goal: find your location \"x\" and clock bias b\n",
            "[4.31471601 3.55236444 4.75538954 5.86463678]\n"
          ]
        }
      ]
    },
    {
      "cell_type": "markdown",
      "source": [
        "## If you're interested, some more facts about GNSS\n",
        "Mostly taken from the [An Introduction to GNSS](https://novatel.com/an-introduction-to-gnss) book, 3rd ed.,  by Hexagon\n",
        "- Some constellations: GPS (USA), GLONASS (Russia), Galileo (European Union), BeiDou (China), NavIC (India), QZSS (Japan)\n",
        "  - GPS has 31 satellites, launched in late 70s, available for civilian use starting in 1983. Expanded/improved since then.\n",
        "- Orbit between 11,800 and 22,400 miles above Earth\n",
        "- Transmit on ranges between 1.17 and 1.61 GHz (higher frequency than FM radio, lower than microwave). Very weak by the time they reach you\n",
        "  - L5 band at 1176.45 MHz, L2 band at 1227.60 MHz, L1 band at 1575.42 MHz. These frequencies were chosen because they allow simple antenna design, less ionospheric delays, minimize weather impacts, and to allow high bandwidth codes\n",
        "  - Satellites move about 4 km/sec, and ar large (2,200 kg)\n",
        "  - Use rubidium clocks, accurate to 5 parts in $10^{11}$.\n",
        "  - Syncrhonized with ground-based cesium clocks, even more accurate, which loses a second after 100,000 years\n",
        "  - A quartz watch has an accuracy of 5 parts in $10^6$ and loses a second every two days.\n",
        "  - Light travels about 300 meters in one microsecond, so we need more precision than quartz can provide\n",
        "- Standard GNSS is accurate to a few meters, but there are modern tricks to augment it to get it down to centimeters!\n",
        "- GPS transmits via Code Division Multiple Access (CDMA), spread spectrum. Each satellite has a unique pseudorandom digital sequence (PRN code)\n",
        "- The satellite transmits \"ephermeris\" data, which allows you to calculate its position.\n",
        "- There is some information transmitted encrypted for military use which allows higher precision. Somewhat recently, some of this was made public (on purpose) to allow civilian use of more precise information.\n",
        "- Ionosphere (50 to 1000 km above surface) delays are frequency dependent, so using two frequencies (L1 and L2) you can somewhat account for that\n",
        "- Troposphere (lower part of atmosphere, 17 tp 20 km thick) delays signal due to temperature, pressure and humidity.\n",
        "- Multipath (signals bouncing off buildings...) creates errors too\n",
        "- We need 4 satellites, but if they're all nearly overhead, a small error in measurement will lead to a big error in our estimated precision. We want them spread out. We quantify this with \"dilution of precision\" (DOP)\n",
        "- Need to account for Doppler affects; lots of coordinate systems, etc.\n",
        "- Modern systems do **data assimilation**, taking different data sources (e.g., cell phone tower or wifi data) and merging them to get more accurate measurements\n",
        "  - can also assimilate with inertial measurement units (IMU) like a gyroscope/accelerometer on a watch. The IMU is accurate locally and for a short time, which complements the strengths of GNSS\n",
        "- Typical errors\n",
        "  - satellite clocks: 2 meters\n",
        "  - orbit errors: 2.5 meters\n",
        "  - ionospheric delays: 5 meters\n",
        "  - tropospheric dealys: 0.5 meters\n",
        "  - receiver noise: 0.3 meters\n",
        "  - multipath: 1 meter\n",
        "- Improvements\n",
        "  - Get more precise pseudorange using the carrier phase of the signal\n",
        "    - using \"real-time kinematics\" (RTK)\n",
        "  - Differential GNSS uses a fixed base station, with known location, and then it helps you correct for errors\n",
        "    - satellite based augmentation systems do something similar but for a wide area, and then send the information to a satellite, which then broadcasts it to receivers in the area of the base station\n",
        "    - The Wide Area Augmentation System is for aviation, used by the FAA, to do something similar"
      ],
      "metadata": {
        "id": "4ZtJCaE_QSUp"
      }
    }
  ]
}